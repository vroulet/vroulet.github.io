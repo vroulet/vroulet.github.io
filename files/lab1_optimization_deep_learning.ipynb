{
 "cells": [
  {
   "cell_type": "markdown",
   "metadata": {},
   "source": [
    "# <center> Gradient-based optimization of Neural Networks </center>\n",
    "\n",
    "<center> Krishna Pillutla, Vincent Roulet, Zaid Harchaoui  \n",
    "University of Washington  \n",
    "{pillutla, vroulet, zaid} @ uw.edu  \n",
    "    July 28, 2018\n",
    "    </center>\n",
    " \n",
    "**Acknowledgements** This work was supported by the NSF TRIPODS Award (CCF-1740551)."
   ]
  },
  {
   "cell_type": "markdown",
   "metadata": {},
   "source": [
    "In this lab, we will present and compare standard methods for gradient-based optimization of deep neural networks using [PyTorch](https://pytorch.org/).\n",
    "\n",
    "Beyond the practical tools presented in this lab, other takeaways from this lab are:\n",
    "* Why stochastic gradient descent is preferred over gradient descent\n",
    "* Theoretical guarantees and practical heuristics for the stochastic gradient descent\n",
    "* How simple stochastic gradient descent compares to various \"adaptive\" methods\n",
    "* How batch normalization helps the optimization of neural networks\n",
    "\n",
    "\n",
    "Notes on this lab are available to better understand basic theoretical concepts on optimization. In particular, rates of convergence of gradient and stochastic gradient descent are reviewed. Note that no such result exists for Adam, a popular adaptive method used as an alternative to stochastic gradient descent.\n",
    "\n",
    "***References:***\n",
    "\n",
    "For more details about optimization of deep neural networks, read [Lecun et al](http://yann.lecun.com/exdb/publis/pdf/lecun-98b.pdf), [Bottou](https://cilvr.cs.nyu.edu/diglib/lsml/bottou-sgd-tricks-2012.pdf) or [this book](https://www.springer.com/la/book/9783642352881) compiling tricks for optimization of deep neural networks. \n",
    "The comparison between classical stochastic gradient descent and \"adaptive\" methods is inspired from [Wilson et al](https://papers.nips.cc/paper/7003-the-marginal-value-of-adaptive-gradient-methods-in-machine-learning.pdf).\n",
    "For more details about batch normalization, see the original paper by [Ioffe and Szegedy 2015](https://arxiv.org/abs/1502.03167)."
   ]
  },
  {
   "cell_type": "code",
   "execution_count": 1,
   "metadata": {},
   "outputs": [
    {
     "name": "stdout",
     "output_type": "stream",
     "text": [
      "Files already downloaded and verified\n"
     ]
    }
   ],
   "source": [
    "import numpy as np\n",
    "import os, sys, time, pickle\n",
    "from argparse import Namespace\n",
    "from copy import deepcopy\n",
    "from argparse import Namespace\n",
    "\n",
    "# PATH + local imports\n",
    "sys.path.append(os.path.join(sys.path[0],'codes'))\n",
    "import my_cifar_dataset, my_mnist_dataset\n",
    "\n",
    "# torch\n",
    "import torch\n",
    "import torchvision\n",
    "import torchvision.transforms as transforms\n",
    "import torch.nn as nn\n",
    "import torch.nn.functional as F\n",
    "from torch.nn.functional import relu, softplus, dropout\n",
    "import torch.optim as optim\n",
    "\n",
    "from curv import compute_curv\n",
    "import plot_helper\n",
    "\n",
    "# plotting\n",
    "import matplotlib.pyplot as plt\n",
    "%matplotlib inline\n",
    "\n",
    "# datasets\n",
    "ds = torchvision.datasets.CIFAR10(root='./data/CIFAR', download=True)\n",
    "ds = torchvision.datasets.MNIST(root='./data/MNIST', download=True)"
   ]
  },
  {
   "cell_type": "markdown",
   "metadata": {},
   "source": [
    "## Neural networks \n",
    "\n",
    "The goal of supervised learning is to find a mapping $\\Phi$ from inputs $x\\in \\mathcal{X}$ to outputs $y \\in \\mathcal{Y}$ given a set of training examples $(x_1, y_1), \\ldots, (x_n,y_n) \\in \\mathcal{X} \\times \\mathcal{Y}$. Typically, inputs are $d$-dimensional vectors $\\mathcal{X} = \\mathbb{R}^d$ and outputs are categorical, encoded by binary vectors $\\mathcal{Y} =\\{0,1\\}^K$ for $K$-class classification or the quantitative measure $\\mathcal{Y} = \\mathbb{R}$ for regression. Neural network methods parametrize these mappings $\\Phi:\\mathcal{X} \\mapsto \\mathcal{Y}$ by successive compositions of linear transformations followed by non-linear ones."
   ]
  },
  {
   "cell_type": "markdown",
   "metadata": {},
   "source": [
    "### Definition\n",
    "\n",
    "Formally, neural networks are composed of $L$ layers. \n",
    "The affine mapping at the $l^{\\mathrm{th}}$ layer\n",
    "is parameterized by the  weights-bias pair $u_l = (W_l, b_l)$. \n",
    "The complete mapping is then a function of $u = (u_1,\\ldots,u_L)$  given by\n",
    "$$\n",
    "\\Phi(x;u) = \\phi_{u_{L}}\\circ \\phi_{u_{L-1}} \\circ \\ldots \\circ \\phi_{u_{1}}(x),\n",
    "$$\n",
    "where, for any $l = 1,\\ldots, L$,\n",
    "$$\n",
    "\\phi_{u_l}(x) =  \\sigma(W_l x +b_l),\n",
    "$$\n",
    "and $\\sigma$ is a non-linear operation such as the point-wise application of the \n",
    "soft-plus function $\\log(1+\\exp(\\beta x))/\\beta$ displayed below, where $\\beta$ is a parameter that shapes the function (see [here](https://pytorch.org/docs/stable/nn.html#softplus) for more details)"
   ]
  },
  {
   "cell_type": "markdown",
   "metadata": {},
   "source": [
    "<center><img src=\"img/Softplus.png\" width=\"400\" align=\"center\"/></center>"
   ]
  },
  {
   "cell_type": "markdown",
   "metadata": {},
   "source": [
    "The following scheme ([source](https://www.intechopen.com/books/metallurgy-advances-in-materials-and-processes/artificial-intelligence-techniques-for-modelling-of-temperature-in-the-metal-cutting-process)) illustrates the formal definition "
   ]
  },
  {
   "cell_type": "markdown",
   "metadata": {},
   "source": [
    "<center><img src=\"img/neural_net.png\" width=\"400\" align=\"center\"/></center>"
   ]
  },
  {
   "cell_type": "markdown",
   "metadata": {},
   "source": [
    "On an input-output pair $(x,y)$, the error of prediction of $y$ by $\\Phi(x;u)$ is measured by a loss $\\ell(y, \\Phi(x;u))$ such as the squared loss, $\\ell_2(y,\\Phi(x;u))=\\frac{1}{2} \\|y-\\Phi(x;u)\\|_2^2$ or logistic loss and the learning procedure consists of minimizing the empirical loss on the set of input-output training examples $(x_1,y_1),\\ldots,(x_n,y_n)$ leading to the optimization problem\n",
    "$$\n",
    "   \\min_{\\substack{u = (u_1,\\ldots,u_L)}} \\quad \\frac{1}{n} \\sum_{i=1}^n \\ell(y_i,\\Phi(x_i;u)).\n",
    "$$"
   ]
  },
  {
   "cell_type": "markdown",
   "metadata": {},
   "source": [
    "### Initiate a simple network\n",
    "A neural network can easily be defined using the framework provided by [PyTorch](https://pytorch.org/). There, a network is an object defined by\n",
    "* the affine transformations parameterized by $u_1,\\ldots,u_L$ above, that are the attributes of the network , through the constructor `__init__`,\n",
    "* the whole operations made on an input by the network, i.e. the function $\\Phi$ defined above, (so composing the linear transformations with non-linear ones), through the function <code>forward</code>.\n",
    "\n",
    "We will see different linear and non-linear operations in this lab. For the moment we will just use the ones presented before, i.e. affine transformation and the softplus function.\n",
    "\n",
    "To begin with, we will define a simple Multi-Layer Perceptron (MLP) for images with two layers, i.e. parameterized by two linear transformations ($u_1, u_2$). The Mapping $\\Phi$ will then reduce the input (in this case, an image) to a vector, apply the first affine map (such a layer is called fully connected (fc below)), then the soft-plus function as the non-linearity $\\sigma$ and finally apply the second affine map.\n",
    "\n",
    "Below is the code in PyTorch to define this MLP:"
   ]
  },
  {
   "cell_type": "code",
   "execution_count": 2,
   "metadata": {},
   "outputs": [],
   "source": [
    "class MLPNet(nn.Module):\n",
    "    \"\"\"\n",
    "    Simple multi-layer perceptron (MLP) with one hidden layer\n",
    "    \"\"\"\n",
    "    def __init__(self, size_img, num_hidden_nodes, num_classes):\n",
    "        super(MLPNet, self).__init__()\n",
    "        # First linear map form the space of images represented by \n",
    "        # vectors of size size_img to the dimension of the first layer\n",
    "        self.size_img = size_img\n",
    "        self.fc1 = nn.Linear(size_img, num_hidden_nodes)\n",
    "        # Second linear map from output of layer 1 to the output space (here composed of num_classes)\n",
    "        self.fc2 = nn.Linear(num_hidden_nodes, num_classes)\n",
    "        # Define the non-linearity\n",
    "        # threshold parameter is properly defined in pytorch manual\n",
    "        self.nonlin = lambda x: softplus(x, beta=25, threshold=1)\n",
    "        # self.nonlin = relu # uncomment to use ReLu instead\n",
    "    def forward(self, x):\n",
    "        # Reduce image to a vector:\n",
    "        x = x.view(-1, self.size_img)\n",
    "        # Apply first linear map followed by the non-linearity\n",
    "        x = self.nonlin(self.fc1(x))\n",
    "        # Apply the second linear map\n",
    "        x = self.fc2(x)\n",
    "        return x"
   ]
  },
  {
   "cell_type": "markdown",
   "metadata": {},
   "source": [
    "We will use this network to classify handwritten digits from the [MNIST dataset](http://yann.lecun.com/exdb/mnist/) (see examples of data [here](https://oriamathematics.wordpress.com/2016/08/12/binary-classification-with-logistic-regression/)). These are 28x28 images  of digits 0,...,9 (10 classes) represented by a one-hot encoding. That is, image $x_i \\in \\mathbb{R}^{28 \\times 28}$ and label $y_i \\in \\{0, 1\\}^{10}$. Note that $y_i$ is represented by a binary vector with the $k$-th entry equal to $1$ if the image $x_i$ belongs to class $k$ and $0$ otherwise. We define a network with 500 hidden nodes in the first layer and use the square loss. Formally, we require our neural network $\\Phi : \\mathbb{R}^{28 \\times 28} \\to \\mathbb{R}^{10}$ to have 10 nodes in the last (output) layer. \n",
    "The optimization problem we now solve is\n",
    "$$\n",
    "\\min_{u} \\left[  f(u) := \\frac{1}{n} \\sum_{i=1}^n \\frac{1}{2} \\|y_i -\\Phi(x_i ;u)\\|_2^2 \\right]\n",
    "$$"
   ]
  },
  {
   "cell_type": "code",
   "execution_count": 3,
   "metadata": {},
   "outputs": [
    {
     "name": "stdout",
     "output_type": "stream",
     "text": [
      "torch.Size([60000, 28, 28]) torch.Size([60000, 10])\n"
     ]
    }
   ],
   "source": [
    "# Set up dataset and dataloader see Pytorch documentation \n",
    "# <https://pytorch.org/tutorials/beginner/data_loading_tutorial.html> for more details\n",
    "\n",
    "# Pre-computed mean and standard deviation.\n",
    "mean_MNIST = 0.1307\n",
    "std_MNIST = 0.3081\n",
    "# Preprocess the data \n",
    "transform = transforms.Compose([transforms.ToTensor(), transforms.Normalize((mean_MNIST,), (std_MNIST,))])\n",
    "# Load MNIST training set with one hot encoding of labels.\n",
    "trainset = my_mnist_dataset.MNIST(root='./data/MNIST', train=True, one_hot=True, transform=transform)\n",
    "# Dataloader will output batch of samples form the data set, randomly chosen by suffling the dataset \n",
    "dataloader = torch.utils.data.DataLoader(trainset, batch_size=100, shuffle=True, num_workers=1)\n",
    "\n",
    "# Instantiate neural network and loss\n",
    "net = MLPNet(28*28, 500, 10)\n",
    "loss_fn = nn.MSELoss() # MSE = mean squared error"
   ]
  },
  {
   "cell_type": "markdown",
   "metadata": {},
   "source": [
    "## Optimization strategies on toy data\n",
    "We will now compare different optimization methods to solve the training problem that can be simply written as\n",
    "$$\n",
    "\\min_u \\, f(u) = \\frac{1}{n}\\sum_{i=1}^n f_i(u)\n",
    "$$\n",
    "where $f_i(u) = \\ell(y_i,\\Phi(x_i;u))$ is the loss encountered by the set of parameters on the ith training sample. \n",
    "\n",
    "We focus on first order algorithms that use gradients on the problem. To compute them, notice that each $f_i$ is a composition of functions, such that its gradient is given by the chain rule. Precisely, the gradient of $f_i$ with respect to the $l$th variables of the network $u_l$ will depend on the gradient of the next layers for $l' = l+1,\\ldots,L$. The gradients with respect to each variable can then be computed recursively by the so-called back-propagation algorithm, read [Yann LeCun's paper](http://yann.lecun.com/exdb/publis/pdf/lecun-88.pdf) for more details about it.\n",
    "\n",
    "Practically in the PyTorch framework, given a sample, the neural net records all the operations it computes from the input $x_i$ until the value of the loss with the parameters of the network. From these operations that it recorded (from the definition of the loss and the <code>forward</code> function above), it derives the gradient of the corresponding function $f_i$.\n",
    "More details about backpropagation in the Pytorch framework can be found [here](https://pytorch.org/tutorials/beginner/blitz/autograd_tutorial.html). We will just use this operation as an oracle on the function as presented in the notes.\n",
    "\n",
    "The following code computes the gradient of the network with respect to as many samples as it gets (in x, y below).\n",
    "\n",
    "__Explanation__: \n",
    "- Consider a variable `x` and define `y = f(x)`. Calling `y.backward()` populates the field `x.grad` with the gradient $\\nabla f(x)$ of `y` w.r.t. `x`. PyTorch accumulates gradients on subsequent `.backward()` calls. That is, if we were to define `z=g(x)` and call `z.backward()`, the field `x.grad` would now contain $\\nabla f(x) + \\nabla g(x)$.\n",
    "To avoid accumulation, we manually zero out the gradients below by calling `net.zero_grad()`.\n",
    "- The various parameters of a neural network (net), represented by an object of type nn.Module may be accessed individually via their names, e.g. `net.fc1.weight` or `net.fc2.bias` in `MLPNet` above, or via the iterator `net.parameters()`. \n",
    "- The function below returns the loss, which can then be used for aggregation and book-keeping, and a reference to the gradient."
   ]
  },
  {
   "cell_type": "code",
   "execution_count": 4,
   "metadata": {},
   "outputs": [],
   "source": [
    "def stoc_grad_(net, loss_fn, x, y):\n",
    "    \"\"\"\n",
    "    The function computes gradient of `loss_fn(net(x), y)`\n",
    "    w.r.t. parameters of `net`, where `x` is the input `y` is the label.\n",
    "    Returns the function value `loss_fn(net(x), y)` and the gradient.\n",
    "    \"\"\"\n",
    "    # PyTorch \n",
    "    net.zero_grad() # zero out gradients of parameters in net\n",
    "    loss = loss_fn(net(x), y) # compute loss\n",
    "    loss.backward() # make backward pass\n",
    "    # Return reference to gradient\n",
    "    grad = [var.grad for var in net.parameters()]\n",
    "    return loss, grad"
   ]
  },
  {
   "cell_type": "markdown",
   "metadata": {},
   "source": [
    "### Gradient descent\n",
    "The basic algorithm to solve the training problem is a simple gradient descent scheme, that starts from a given $u_0$ and follows at each step the descent direction given by the gradient\n",
    "$$\n",
    "u_{k+1} = u_k - \\gamma_k \\nabla f(u_k) = u_k -  \\frac{\\gamma_k}{n}\\sum_{i=1}^n \\nabla f_i(u_k)\n",
    "$$\n",
    "where $\\gamma_k$ is the step-size (called *learning rate* in the deep learning literature). This is called *batch* gradient descent as it uses the whole training set at each iteration.\n",
    "\n",
    "As explained in the notes, the problem being not convex, our only hope is to find a stationary point ($\\nabla f(u) = 0$).\n",
    "Recall that the choice of the step-size is controlled in theory by the smoothness of the objective, that is by the smallest parameter $L$ such that \n",
    "$$\n",
    "\\|\\nabla f(u) - \\nabla f(u')\\| \\leq L \\|u-u'\\| \\quad \\mbox{for every $u, u'$},\n",
    "$$\n",
    "\n",
    "In practice, this constant is often not known but simple line-searches strategies exist such as backtracking line-search (see notes) that ensures convergence of the gradient descent.\n",
    "\n",
    "**Exercise :**\n",
    "Compare the time of one computation of a whole gradient (using all functions $f_i$) and the time needed to compute only the gradient of one function. This will lead us to consider stochastic gradient descent.\n",
    "\n",
    "__Hints :__ \n",
    "- Recall that PyTorch accumulates gradients. \n",
    "- To loop over the entire training set once, use the dataloader as follows: `for x, y in dataloader: do something`"
   ]
  },
  {
   "cell_type": "code",
   "execution_count": 5,
   "metadata": {},
   "outputs": [
    {
     "name": "stdout",
     "output_type": "stream",
     "text": [
      "Time to compute whole gradient is 8.916854858398438e-05\n",
      "Time to compute a single gradient is 6.818771362304688e-05\n"
     ]
    }
   ],
   "source": [
    "# Compute time for a whole gradient\n",
    "start_time = time.time()\n",
    "\n",
    "# TODO: compute whole gradient\n",
    "\n",
    "elapsed_time = time.time() - start_time\n",
    "\n",
    "print('Time to compute whole gradient is ' + str(elapsed_time))\n",
    "\n",
    "# Compare with computation of a single function\n",
    "start_time = time.time()\n",
    "\n",
    "# TODO: compute gradient of a single function f_i defined by the example (x_i, y_i) for one i\n",
    "# Hint: use the last x, y returned by the loop above\n",
    "\n",
    "elapsed_time = time.time() - start_time\n",
    "\n",
    "print('Time to compute a single gradient is ' + str(elapsed_time))"
   ]
  },
  {
   "cell_type": "markdown",
   "metadata": {},
   "source": [
    "### Stochastic Gradient Descent (SGD)\n",
    "For large data sets, computing the whole gradient may be costly as shown earlier. Therefore one can rather use approximations of it: compute the gradient of a random subset $I$ of size $m$ of the samples, \n",
    "$$\n",
    "\\tilde \\nabla f(u) = \\frac{1}{m}\\sum_{i \\in I} \\nabla f_i(u)\n",
    "$$\n",
    "By drawing the subsets at random, we ensure that this approximate gradient is a unbiased estimate of the true gradient, i.e. $E(\\tilde \\nabla f(u)) = \\nabla f(u)$. Random subsets of more than one sample are called *mini-batches*. \n",
    "\n",
    "From this estimate of the gradient we can apply the stochastic gradient descent that starts from a given $u_0$ and follows the rule\n",
    "$$\n",
    "u_{k+1} = u_k - \\gamma_k \\tilde \\nabla f(u_k) \n",
    "$$\n",
    "where $\\gamma_k$ is the step-size (learning rate).\n",
    "\n",
    "The following function implements SGD with a constant learning rate `lr`. "
   ]
  },
  {
   "cell_type": "code",
   "execution_count": 6,
   "metadata": {},
   "outputs": [],
   "source": [
    "def sgd(net, loss_fn, dataloader, lr, num_epochs):\n",
    "    \"\"\"\n",
    "        run SGD with constant learning rate\n",
    "        - For inputs x,y, the function is defined as `loss_fn(net(x), y)`.\n",
    "        - `dataloader` is an iterator over the examples $\\{x_i, y_i\\}_{i=1}^n$.\n",
    "        - `lr` is the (constant) learning rate $gamma$ used by SGD.\n",
    "        - SGD is run for `num_epochs` number of passes through the dataset.\n",
    "    \"\"\"\n",
    "    losses = []\n",
    "    print('Epoch\\tAvg loss\\tParam Norm\\tTime')\n",
    "    for epoch in range(num_epochs):\n",
    "        t1 = time.time()\n",
    "        for i, (images, labels) in enumerate(dataloader):\n",
    "            # dataloader here gives randomly sampled images and labels\n",
    "            loss, grad = stoc_grad_(net, loss_fn, images, labels)\n",
    "            losses += [loss.item()]\n",
    "            with torch.no_grad():\n",
    "                for var, grad_var in zip(net.parameters(), grad):\n",
    "                    # grad_var is a pointer to gradient of loss w.r.t. var\n",
    "                    updated_var = var - lr*grad_var\n",
    "                    var.copy_(updated_var) # copy updated_var into var\n",
    "            if i % 100 == 99: # Logging\n",
    "                print('{:.2f}\\t\\t{:.4f}\\t\\t{:.4f}\\t\\t{:.2f}'.format(\n",
    "                    epoch + i / len(dataloader), # number of passes\n",
    "                    np.asarray(losses).mean(),  # mean loss seen this epoch\n",
    "                    norm(net), time.time() - t1))\n",
    "        losses = []\n",
    "    \n",
    "# computes norm of net's parameters \n",
    "def norm(net):\n",
    "    s = 0.0\n",
    "    for var in net.parameters():\n",
    "        s += var.data.view(-1).norm() ** 2 \n",
    "    return torch.sqrt(s).item()"
   ]
  },
  {
   "cell_type": "markdown",
   "metadata": {},
   "source": [
    "### Methodology to find hyper-parameters of stochastic gradient descent\n",
    "\n",
    "A proof of convergence of this algorithm under mild assumptions on the smoothness of the function is provided in the accompanying notes. This depends obviously on the choice of the step-sizes that shall tend to zero to ensure the reduction of the variance of the estimates. Theory tells that a step-size of $\\gamma_k \\propto 1/\\sqrt{k+1}$ is optimal, practitioners often use heuristics that are found to work better in practice.\n",
    "\n",
    "Precisely, practitioners run stochastic gradient descent with a constant step-size $\\gamma$ until a given stopping criterion, then they restart the algorithm from the final point using a new constant step-size $\\delta \\gamma$, reduced by a fixed factor $\\delta < 1$, and repeat the process. This strategy requires three hyper-parameters: \n",
    "- initial learning rate $\\gamma_0$, \n",
    "- stopping criterion,\n",
    "- learning rate decay factor $\\delta$.\n",
    "\n",
    "Let us look at each in turn:\n",
    "- __Initial learning rate $\\gamma_0$__: The initial learning rate $\\gamma_0$ must be large enough so that the algorithm makes good progress initially, but not so large that the optimization diverges. Too small an initial learning rate leads to very slow optimization. \n",
    "- __Stopping Criterion__: Two stopping criteria are commonly used: \n",
    "    - *fixed iteration budget*: Stop after a fixed number $T_{\\mathrm{budget}}$ number of epochs. Here, $T_{\\mathrm{budget}}$  is a hyper-parameter.\n",
    "    - *plateau on a validation set*: Use a validation set to stop when the performance on it (either in loss value or classification accuracy)  has not improved in a fixed number $T_{\\mathrm{patience}}$ number of epochs where $T_{\\mathrm{patience}}$ is a hyper-parameter.\n",
    "- __Decay factor $\\delta$__: As for the learning rate, the decay factor $\\delta$, shouldn't be too small in order to avoid to be quickly stuck.\n",
    "\n",
    "The best way to select these parameters is by an exhaustive grid search. Practitioners use default values for $T_{\\mathrm{budget}}$ or $T_{\\mathrm{patience}}$ and search only for the initial learning rate $\\gamma_0$ and the decay factor $\\delta$. We don't detail here the grid search for the decay factor, simply know that it is commonly searched on a grid $\\delta \\in\\{1/2, 1/4, 1/8\\}$."
   ]
  },
  {
   "cell_type": "markdown",
   "metadata": {},
   "source": [
    "####  Test initial learning rates for SGD\n",
    "Let us now try to experiment some constant learning rates for SGD. \n",
    "Intuitively very large learning rates cause the optimization to diverge\n",
    "i.e. the function value and parameter norms quickly blow up to $+\\infty$ (or you might notice NaNs that arise from arithmetic operation involving $\\infty$).\n",
    "Here we will find a learning rate $\\gamma$ so that SGD with learning rate $c\\gamma$, $c > 1$ (e.g., $10$), diverges \n",
    "immediately (i.e., within a few tens of updates)\n",
    "but doesn't with a learning rate $\\gamma$.\n",
    "\n",
    "For the case of [cross entropy loss (log loss)](https://en.wikipedia.org/wiki/Loss_functions_for_classification#Cross_entropy_loss_(Log_Loss)),\n",
    "which is popular for classification problems, \n",
    "too large a learning rate causes the function value to become large (although not $+\\infty$)\n",
    "and never drop below $\\ln 10 \\approx 2.3$. Note that the dataset MNIST\n",
    "that we consider has 10 classes, and a function value of $\\ln 10$ corresponds \n",
    "to random guessing where each class is assigned a probability of $1/10$.\n",
    "\n",
    "**Exercise :**\n",
    "Try to find a good initial learning rate up as follows: find a number $\\gamma_0$ so that \n",
    "SGD works with an initial learning rate of $\\gamma_0$ \n",
    "but diverges with $10\\gamma_0$. \n",
    "Once we have this estimate, $\\gamma_0$ or $\\gamma_0 / 10$ are usually good candidates for initial learning rates.\n",
    "\n",
    "__NOTE__: takes 5-20 seconds per epoch."
   ]
  },
  {
   "cell_type": "code",
   "execution_count": null,
   "metadata": {
    "scrolled": true
   },
   "outputs": [],
   "source": [
    "net = MLPNet(28*28, 500, 10) # Reinitialize the net when using a different learning rate\n",
    "lr = 1e-1 # learning rate\n",
    "sgd(net, loss_fn, dataloader, lr, num_epochs=2) # call SGD"
   ]
  },
  {
   "cell_type": "markdown",
   "metadata": {},
   "source": [
    "You might have found above that $\\gamma=0.1$ or $\\gamma=1.0$ \n",
    "results in a rapid decrease of the loss while\n",
    "$\\gamma = 10.0$ \n",
    "causes NaNs, a sign of divergence.\n",
    "A smaller step-size of $\\gamma = 0.01$ also works but is much more conservative\n",
    "than the choice $\\gamma = 0.1$."
   ]
  },
  {
   "cell_type": "markdown",
   "metadata": {},
   "source": [
    "## Optimization on real data\n",
    "\n",
    "### Convolutional Network\n",
    "For real experiments, we will use a simple convolutional neural network (CNN), which is composed of two convolutional\n",
    "layers and one fully connected hidden layer. We have already seen fully connected layers. Convolutional layers use specific linear transformations for images called convolutions, illustrated in the picture ([source](https://www.researchgate.net/publication/304526867_Design_and_Development_of_a_FROG_Instrument_for_the_Characterization_of_Femto-second_Laser_Pulses?_sg=k-_rYWomsKsHl13SQeyLYpsGbOUSXOeSzRJ6U3_JceRX01yRIpVwvioXXMY7tf_-77mZBbefyA)) below: at each pixel of the image, a kernel is applied that computes a weighted mean of its neighborhood which defines the output pixel."
   ]
  },
  {
   "cell_type": "markdown",
   "metadata": {},
   "source": [
    "<center><img src=\"img/conv.png\" width=\"400\" align=\"center\"/></center>"
   ]
  },
  {
   "cell_type": "markdown",
   "metadata": {},
   "source": [
    "Convolutions are typically followed by a down-sampling step called pooling. For more details about the functions used in this network (like max pool or dropout), feel free to consult the documentation of [PyTorch](https://pytorch.org/)."
   ]
  },
  {
   "cell_type": "code",
   "execution_count": 2,
   "metadata": {},
   "outputs": [],
   "source": [
    "class ConvNet(nn.Module):\n",
    "    \"\"\"\n",
    "    Simple convolutional neural network with \n",
    "    two convolutional layers and one hidden fully connected layer\n",
    "    \"\"\"\n",
    "    def __init__(self):\n",
    "        super().__init__()\n",
    "        num_input_channels = 3\n",
    "        num_channels_1 = 6\n",
    "        kernel_size = 5\n",
    "        mp_ksize = mp_stride = 2 # max pool hyper-parameters\n",
    "        num_channels_2 = 12\n",
    "        fc_size = 90\n",
    "        output_dim = 10\n",
    "        conv_out_size = num_channels_2 * kernel_size * kernel_size\n",
    "\n",
    "        self.conv1 = nn.Conv2d(num_input_channels, num_channels_1, kernel_size)\n",
    "        self.pool = nn.MaxPool2d(mp_ksize, mp_stride)\n",
    "        self.conv2 = nn.Conv2d(num_channels_1, num_channels_2, kernel_size)\n",
    "        self.fc1 = nn.Linear(conv_out_size, fc_size)\n",
    "        self.fc2 = nn.Linear(fc_size, output_dim)\n",
    "\n",
    "    def forward(self, x):\n",
    "        bat_size = x.shape[0]\n",
    "        x = self.pool(relu(self.conv1(x)))\n",
    "        x = self.pool(relu(self.conv2(x)))\n",
    "        x = x.view(bat_size, -1)\n",
    "        x = relu(self.fc1(x))\n",
    "        x = dropout(x, training=self.training)\n",
    "        x = self.fc2(x)\n",
    "        return x"
   ]
  },
  {
   "cell_type": "markdown",
   "metadata": {},
   "source": [
    "Here we will use the Cross Entropy Loss, that measures the performance of a classification model whose output is a probability value between 0 and 1. Cross-entropy loss increases as the predicted probability diverges from the actual label. In the PyTorch implementation a first transformation is applied to the last output for getting probabilities of each class before applying the cross-entropy loss."
   ]
  },
  {
   "cell_type": "code",
   "execution_count": 3,
   "metadata": {},
   "outputs": [],
   "source": [
    "loss_fn = nn.CrossEntropyLoss()"
   ]
  },
  {
   "cell_type": "markdown",
   "metadata": {},
   "source": [
    "#### Dataset extraction\n",
    "\n",
    "We will compare on an image classification task drawn from the data set CIFAR, composed of images of, for example, cars, boats or cats. Only a fifth of the CIFAR-10 dataset will be used for speed reasons, but you can repeat with the entire dataset at home, provided you have the necessary computational resources (preferably, a GPU).\n",
    "\n",
    "To stick to real experiments we will use data augmentation as it is commonly done in computer vision. It consists of random transformations of images such as randomly flipping, cropping or rotating an image. Such augmentations have been found to aid generalization, see [here](https://www.coursera.org/lecture/convolutional-neural-networks/data-augmentation-AYzbX) for more details. We shall use random flips for this case study.\n",
    "\n",
    "As is common practice, while we train using the augmented dataset, we record the train loss and classification accuracy on the un-augmented (i.e., original) training set."
   ]
  },
  {
   "cell_type": "code",
   "execution_count": 4,
   "metadata": {},
   "outputs": [],
   "source": [
    "data_path = './data/CIFAR'\n",
    "device = torch.device(\"cuda:0\" if torch.cuda.is_available() else \"cpu\")"
   ]
  },
  {
   "cell_type": "code",
   "execution_count": 5,
   "metadata": {},
   "outputs": [],
   "source": [
    "## Datasets and dataloaders\n",
    "# Precomputed means and standard deviation of the data set along the 3 channels of images (red, green, blue)\n",
    "mean_CIFAR = (0.49139968,  0.48215841,  0.44653091)\n",
    "std_CIFAR = (0.24703223,  0.24348513,  0.26158784)\n",
    "\n",
    "# Preprocess the data\n",
    "transform_augmented = transforms.Compose([transforms.RandomHorizontalFlip(),\n",
    "                                          transforms.ToTensor(),\n",
    "                                          transforms.Normalize(mean_CIFAR, std_CIFAR)])\n",
    "transform = transforms.Compose([transforms.ToTensor(),\n",
    "                                transforms.Normalize(mean_CIFAR, std_CIFAR)])\n",
    "\n",
    "# Load CIFAR dataset \n",
    "trainset_augmented = my_cifar_dataset.CIFAR10(root=data_path, train='train', transform=transform_augmented)\n",
    "trainset = my_cifar_dataset.CIFAR10(root=data_path, train='train', transform=transform)\n",
    "testset =  my_cifar_dataset.CIFAR10(root=data_path, train='test', transform=transform)\n",
    "\n",
    "batch_size = 100\n",
    "trainloader_augmented = torch.utils.data.DataLoader(trainset, batch_size=batch_size, shuffle=True, num_workers=0)\n",
    "trainloader = torch.utils.data.DataLoader(trainset, batch_size=batch_size, shuffle=True, num_workers=0)\n",
    "testloader = torch.utils.data.DataLoader(testset, batch_size=batch_size, shuffle=False, num_workers=0)"
   ]
  },
  {
   "cell_type": "markdown",
   "metadata": {},
   "source": [
    "### Comparison of optimization algorithms\n",
    "We will compare SGD to a popular optimizer method called [Adam](https://arxiv.org/pdf/1412.6980.pdf). The latter mixes several heuristic to the classical stochastic gradient descent. The paper claims that the resulting algorithm enjoys adaptivity to the best learning rate. Note that it still requires hyperparameters to tune.\n",
    "\n",
    "Precisely, in the following code, we compare stochastic gradient descent properly tuned and Adam (also tuned). We directly use the methods coded in PyTorch and show the convergence after the tuning phase (described above for the stochastic gradient). Feel free to tune the optimizers yourself on this simple example."
   ]
  },
  {
   "cell_type": "markdown",
   "metadata": {},
   "source": [
    "#### Optimization loop\n",
    "First, we define an utility function that defines the optimizer with the optimal parameters given in the <code> params </code> argument."
   ]
  },
  {
   "cell_type": "code",
   "execution_count": 12,
   "metadata": {},
   "outputs": [],
   "source": [
    "def get_opt(params, net):\n",
    "    if params.opt_algo == 'SGD':\n",
    "        optimizer = optim.SGD(net.parameters(), lr=params.lr)\n",
    "    elif params.opt_algo == 'Adam':\n",
    "        optimizer = optim.Adam(net.parameters(), lr=params.lr)\n",
    "    else:\n",
    "        raise Exception('Unknown optimizer {}'.format(params.opt_algo))\n",
    "    # decay learning rate by params.gamma every 25 epochs\n",
    "    decay_every = 25\n",
    "    scheduler = torch.optim.lr_scheduler.StepLR(optimizer, decay_every, gamma=params.gamma, last_epoch=-1)\n",
    "    return optimizer, scheduler"
   ]
  },
  {
   "cell_type": "markdown",
   "metadata": {},
   "source": [
    "The following code is the optimization loop with utilities for logging convergence results."
   ]
  },
  {
   "cell_type": "code",
   "execution_count": 13,
   "metadata": {},
   "outputs": [],
   "source": [
    "def train(params, warm_start=None):\n",
    "    net = ConvNet().to(device)\n",
    "    # if warm start is not None, load pre-trained model\n",
    "    if warm_start is not None:\n",
    "        [net_pretrained, lr, start_epoch], logs = warm_start\n",
    "        params.lr = lr\n",
    "        state_dict = net_pretrained.state_dict()\n",
    "        net.load_state_dict(state_dict)\n",
    "    else:\n",
    "        start_epoch = 0\n",
    "        logs = []\n",
    "    optimizer, scheduler = get_opt(params, net)\n",
    "\n",
    "    # evaluate function value and classification accuracy, \n",
    "    # for both the training and test sets\n",
    "    def evaluate_net(test=True):\n",
    "        net.eval()\n",
    "        loss, correct, total = 0., 0., 0.\n",
    "        loader = testloader if test else trainloader\n",
    "        with torch.no_grad():\n",
    "            for images, labels in loader:\n",
    "                images, labels = images.to(device), labels.to(device) \n",
    "                outs = net(images) \n",
    "                loss += loss_fn(outs, labels).item() * labels.size(0)\n",
    "                _, pred = torch.max(outs.data, 1)\n",
    "                total += labels.size(0)\n",
    "                correct += (pred == labels).sum().item()\n",
    "        return loss/total, correct/total\n",
    "\n",
    "    # logging of train and test function value and classification accuracy\n",
    "    print('Epoch\\t\\tloss_train\\taccuracy_train\\tloss_test\\taccuracy_test\\tTime\\t\\tTest_time')\n",
    "    format_str = '{:d}\\t\\t{:.4f}\\t\\t{:.4f}\\t\\t{:.4f}\\t\\t{:.4f}\\t\\t{:.2f}\\t\\t{:.2f}'\n",
    "    t2 = time.time()\n",
    "    l, a = evaluate_net(test=False)\n",
    "    lt, at = evaluate_net(test=True)\n",
    "    out = [start_epoch, l, a, lt, at, 0, time.time() - t2]\n",
    "    print(format_str.format(*out))\n",
    "    logs.append(out)\n",
    "    \n",
    "    # Main loop\n",
    "    for epoch in range(start_epoch, start_epoch+params.num_epochs):\n",
    "        net.train()\n",
    "        scheduler.step()\n",
    "\n",
    "        t1 = time.time()\n",
    "\n",
    "        for inputs, labels in trainloader_augmented:\n",
    "            inputs, labels = inputs.to(device), labels.to(device)\n",
    "\n",
    "            # zero the parameter gradients\n",
    "            optimizer.zero_grad()\n",
    "\n",
    "            # forward + backward + optimize\n",
    "            outputs = net(inputs)\n",
    "            loss = loss_fn(outputs, labels)\n",
    "            loss.backward()\n",
    "            optimizer.step()\n",
    "        \n",
    "        # logging at the end of every epoch\n",
    "        t2 = time.time()\n",
    "        l, a = evaluate_net(test=False)\n",
    "        lt, at = evaluate_net(test=True)\n",
    "        out = [epoch+1, l, a, lt, at, t2-t1, time.time() - t2]\n",
    "        print(format_str.format(*out))\n",
    "        logs.append(out)\n",
    "\n",
    "    return [net, optimizer.param_groups[0]['lr'], epoch ], logs"
   ]
  },
  {
   "cell_type": "markdown",
   "metadata": {},
   "source": [
    "Now let us run the optimizers. The hyperparameters initial learning rate and learning rate decay were tuned using a grid search. In the interest of time, we shall pick up training midway from pre-trained models and run the optimizers for some number of epochs. \n",
    "\n",
    "__NOTE__: Takes 7-10 min to run"
   ]
  },
  {
   "cell_type": "code",
   "execution_count": null,
   "metadata": {
    "scrolled": true
   },
   "outputs": [],
   "source": [
    "### Common defaults\n",
    "num_epochs = 25\n",
    "start_epoch = 0\n",
    "\n",
    "torch.manual_seed(12) # for reproducibility\n",
    "\n",
    "t1 = time.time()\n",
    "\n",
    "### First, SGD\n",
    "params = Namespace()\n",
    "params.lr = 1e-2 # initial learning rate\n",
    "params.gamma = 0.5 # step size decay parameter\n",
    "params.opt_algo = 'SGD'\n",
    "params.num_epochs = num_epochs\n",
    "with open('data/sgd2.p', 'rb') as f:\n",
    "    ws = pickle.load(f)\n",
    "res1, logs1 = train(params, warm_start=ws)\n",
    "\n",
    "# ### Next, Adam\n",
    "params = Namespace()\n",
    "params.lr = 1e-3 # initial learning rate\n",
    "params.gamma = 1.0 # decay parameter. Don't decay for Adam\n",
    "params.opt_algo = 'Adam'\n",
    "params.num_epochs = num_epochs\n",
    "with open('data/adam2.p', 'rb') as f:\n",
    "    ws = pickle.load(f)\n",
    "res2, logs2 = train(params, warm_start=ws)\n",
    "\n",
    "print('Total time:', time.time() - t1)"
   ]
  },
  {
   "cell_type": "markdown",
   "metadata": {},
   "source": [
    "We can now visualize the outputs of the training process. <code>Train</code> and <code>Test</code> loss are the cross entropy loss on the training and test sets respectively, while <code>Train 0/1</code> and <code>Test 0/1</code> loss count the fraction of mis-classifications made by the network."
   ]
  },
  {
   "cell_type": "code",
   "execution_count": null,
   "metadata": {},
   "outputs": [],
   "source": [
    "outputs = {'SGD': np.asarray(logs1), 'Adam': np.asarray(logs2)}\n",
    "plot_helper.plot_optimization(outputs)"
   ]
  },
  {
   "cell_type": "markdown",
   "metadata": {},
   "source": [
    "Though our experiments were made on real data, the network we used was much simpler than state-of-the-arts networks, and we trained it only on a fraction of the dataset. We won't be able to train complicated networks on the whole data set in this lab, but we put here the outputs you would get using the VGG16 network on CIFAR-10, we add also comparisons to two other popular alternatives to SGD: the Heavy Ball method (HB in short, also known as momentum, initially proposed for convex problems by [Polyak](https://www.sciencedirect.com/science/article/pii/0041555364901375) but popular for deep learning - see [here](http://www.cs.toronto.edu/~fritz/absps/momentum.pdf)) and Adagrad by [Duchi et al](http://www.jmlr.org/papers/volume12/duchi11a/duchi11a.pdf).\n",
    "\n",
    "If you're interested, more exhaustive comparisons of \"adaptive\" methods were done by [Wilson et al](https://papers.nips.cc/paper/7003-the-marginal-value-of-adaptive-gradient-methods-in-machine-learning.pdf)."
   ]
  },
  {
   "cell_type": "code",
   "execution_count": 15,
   "metadata": {},
   "outputs": [
    {
     "data": {
      "image/png": "[encoded data removed]",
      "text/plain": [
       "<Figure size 720x576 with 4 Axes>"
      ]
     },
     "metadata": {},
     "output_type": "display_data"
    }
   ],
   "source": [
    "plot_helper.plot_optimization_all()"
   ]
  },
  {
   "cell_type": "markdown",
   "metadata": {},
   "source": [
    "## Batch Normalization\n",
    "Batch Normalization (batch norm) introduced by [Ioffe and Szegedy 2015](https://arxiv.org/abs/1502.03167), is a technique that centers and normalizes each feature at every level of representation for *each mini-batch* during training.\n",
    "Empirically, although without conclusive scientific evidence, batch norm has been \n",
    "reported to stabilize the gradient (less exploding or vanishing values), in this sense it can be seen as pre-conditioning of the optimization problem. Batch-normalized models have also been reported to overfit less, and as a result, have become overwhelmingly popular in the deep learning community.\n",
    "\n",
    "Although the community does not have a complete understanding of batch norm, \n",
    "recent work has aimed to improve our understanding, e.g., [Ren et al 2016](https://arxiv.org/abs/1611.04520), [Kohler et al 2018](https://arxiv.org/abs/1805.10694), to name a few. \n",
    "Following [Santurkar et al 2018](https://arxiv.org/abs/1805.11604), we shall illustrate how models with batch norm are effectively smoother (measured experimentally via a heuristic measure of smoothness)\n",
    "than equivalent models without batch norm."
   ]
  },
  {
   "cell_type": "markdown",
   "metadata": {},
   "source": [
    "### Standardization in linear regression\n",
    "In linear regression, it is common practice to preprocess the data by centering, decorrelating and normalizing the data. This operation is called *whitening* as the resulting data is reduced to a white noise, see e.g. [this course](https://www.projectrhea.org/rhea/index.php/ECE662_Whitening_and_Coloring_Transforms_S14_MH) for more details on this operation. In practice decorrelating the data requires the inversion of its covariance matrix which is often costly, so one simply *standardizes* the data by subtracting its mean and normalizing the variance of each feature. "
   ]
  },
  {
   "cell_type": "markdown",
   "metadata": {},
   "source": [
    "**Exercise :**\n",
    " \n",
    "For a set of points $x_1,\\ldots, x_n \\in \\mathbb{R}^d$, represented by the matrix $X = (x_1,\\ldots, x_n) \\in \\mathbb{R}^{d \\times n} $, derive analytically the standardization operation that, given the matrix $X$ as input, outputs a standardized matrix $\\widehat X = S(X)$"
   ]
  },
  {
   "cell_type": "markdown",
   "metadata": {},
   "source": [
    "### Batch normalization idea:\n",
    "The idea of batch normalization is to standardize the inputs of each layer by using the statistics of a mini-batch (instead of the entire batch), this would reduce the smoothness constant of each layer and stabilize the optimization procedure. \n",
    "\n",
    "Formally, consider a neural network, that takes as input for training mini-batches of points $X = (x_{i_1},\\ldots,x_{i_m})$. The output of the $t^{th}$ layer is a batch denoted $X^t = (x^t_{i_1}, \\ldots, x_{i_1}^t)$ whose dimension depends on the layer. Batch normalization amounts to add after the $t^{th}$ layer, the additional non-linear operation of standardization defined above and add scaling parameters i.e. adding the stage\n",
    "$$\n",
    "X^{t+1/2} = \\operatorname{diag}(a) S(X) + b\n",
    "$$\n",
    "where parameters $a$ and $b$ are additional parameters to learn in the resulting network.\n",
    "\n",
    "At test time, the network does not use batches, the mean and variances used in the batch normalization stage are then the ones estimated along the mini-batches used in the train through an average."
   ]
  },
  {
   "cell_type": "markdown",
   "metadata": {},
   "source": [
    "### Experiments\n",
    "We now consider the performance of the batch normalization operation on a simple network for the same image classification task on the same small CIFAR data set, we simply augment the batch size for this experiment. We also use the same loss (cross-entropy)."
   ]
  },
  {
   "cell_type": "code",
   "execution_count": 6,
   "metadata": {},
   "outputs": [],
   "source": [
    "# Dataloaders\n",
    "BATCH_SIZE=128\n",
    "trainloader = torch.utils.data.DataLoader(trainset, batch_size=BATCH_SIZE, shuffle=True, num_workers=0)\n",
    "testloader = torch.utils.data.DataLoader(testset, batch_size=BATCH_SIZE, shuffle=False, num_workers=0)\n",
    "\n",
    "# Use cross entropy loss\n",
    "loss_fn = nn.CrossEntropyLoss() "
   ]
  },
  {
   "cell_type": "markdown",
   "metadata": {},
   "source": [
    "#### Define Neural Networks\n",
    "Next, let us define our neural networks. We shall use a simple convolutional neural network with two convolutional layers and one fully connected hidden layer. We shall also use the same network with batch norm inserted after the convolutions and before the pooling.\n"
   ]
  },
  {
   "cell_type": "code",
   "execution_count": 7,
   "metadata": {},
   "outputs": [],
   "source": [
    "class Net_noBN(nn.Module):\n",
    "    \"\"\"\n",
    "    Neural network without batch normalization\n",
    "    \"\"\"\n",
    "    def __init__(self):\n",
    "        super().__init__()\n",
    "        num_input_channels = 3\n",
    "        num_channels_1 = 6\n",
    "        kernel_size = 5\n",
    "        num_channels_2 = 16\n",
    "        fc_size = 120\n",
    "        mp_ksize = mp_stride = 2 # max pool parameters\n",
    "        output_size = 10\n",
    "        conv_out_size = num_channels_2 * kernel_size * kernel_size\n",
    "        \n",
    "        self.conv1 = nn.Conv2d(num_input_channels, num_channels_1, kernel_size)\n",
    "        self.pool = nn.MaxPool2d(mp_ksize, mp_stride)\n",
    "        self.conv2 = nn.Conv2d(num_channels_1, num_channels_2, kernel_size)\n",
    "        self.fc1 = nn.Linear(conv_out_size, fc_size)\n",
    "        self.fc2 = nn.Linear(fc_size, output_size)\n",
    " \n",
    "    def forward(self, x):\n",
    "        bat_size = x.shape[0]\n",
    "        x = self.pool(relu(self.conv1(x)))\n",
    "        x = self.pool(relu(self.conv2(x)))\n",
    "        x = x.view(bat_size, -1)\n",
    "        x = relu(self.fc1(x))\n",
    "        x = dropout(x, training=self.training)\n",
    "        x = self.fc2(x)\n",
    "        return x\n",
    "\n",
    "\n",
    "class Net_BN(nn.Module):\n",
    "    \"\"\"\n",
    "    Neural network with batch normalization\n",
    "    \"\"\"\n",
    "    def __init__(self):\n",
    "        super().__init__()\n",
    "        num_input_channels = 3\n",
    "        num_channels_1 = 6\n",
    "        kernel_size = 5\n",
    "        num_channels_2 = 16\n",
    "        fc_size = 120\n",
    "        mp_ksize = mp_stride = 2 # max pool parameters\n",
    "        output_size = 10\n",
    "        conv_out_size = num_channels_2 * kernel_size * kernel_size\n",
    "        \n",
    "        self.conv1 = nn.Conv2d(num_input_channels, num_channels_1, kernel_size)\n",
    "        self.bn1 = nn.BactchNorm2d(num_channels_1)\n",
    "        self.pool = nn.MaxPool2d(mp_ksize, mp_stride)\n",
    "        self.conv2 = nn.Conv2d(num_channels_1, num_channels_2, kernel_size)\n",
    "        self.bn2 = nn.BactchNorm2d(num_channels_2)\n",
    "        self.fc1 = nn.Linear(conv_out_size, fc_size)\n",
    "        self.fc2 = nn.Linear(fc_size, output_size)\n",
    "\n",
    "    def forward(self, x):\n",
    "        bat_size = x.shape[0]\n",
    "        x = self.pool(relu(self.bn1(self.conv1(x))))\n",
    "        x = self.pool(relu(self.bn2(self.conv2(x))))\n",
    "        x = x.view(bat_size, -1)\n",
    "        x = relu(self.fc1(x))\n",
    "        x = dropout(x, training=self.training)\n",
    "        x = self.fc2(x)\n",
    "        return x"
   ]
  },
  {
   "cell_type": "markdown",
   "metadata": {},
   "source": [
    "## Optimize the networks and observe \"local smoothness\"\n",
    "\n",
    "### Local smoothness\n",
    "\n",
    "In the strict mathematical sense of the term, \n",
    "any neural network $f$ with ReLU activations is not *smooth* as it is not even everywhere differentiable. However, $f$ is locally Lipschitz and is therefore differentiable *almost everywhere*.\n",
    "\n",
    "We will still use the following local smoothness estimate $\\widehat L$ at $w$\n",
    "$$\n",
    "\\widehat L = \\frac{\\| \\nabla f(w + \\Delta w) - \\nabla f(w) \\|_2}{\\|\\Delta w\\|_2} \\,,\n",
    "$$\n",
    "where we heuristically choose $\\Delta w$ in the direction given by a stochastic gradient.\n",
    "\n",
    "### Smoothness and optimization\n",
    "\n",
    "Optimization of smooth functions is controlled by the level of smoothness, \n",
    "with smoother functions being easier to optimize. See, for example, \n",
    "the accompanying notes.\n",
    "We hope to get some insights\n",
    "into how batch norm changes the effective local smoothness of the function, as\n",
    "measured via the heuristic estimates $\\widehat L$.\n",
    "\n",
    "### Code\n",
    "\n",
    "The following code will now optimize the neural nets defined earlier (with or without) \n",
    "batch normalization to report this estimate of the smoothness. We start with a pre-trained model.\n",
    "\n",
    "**Exercise :** In function `train` below, fill out the missing steps marked by `TODO`s."
   ]
  },
  {
   "cell_type": "code",
   "execution_count": 10,
   "metadata": {},
   "outputs": [],
   "source": [
    "def train(params, net=None):\n",
    "    \"\"\"\n",
    "    This function does the following:\n",
    "        - Intializes a network, either a pre-trained network or a new network.\n",
    "        - Defines some utility functions to log performance.\n",
    "        - Logs smoothness estimates in the course of training.\n",
    "    \"\"\"\n",
    "    # Use pre-trained network if provided, else create a new one.\n",
    "    if net is None and params.bn == 'bn':\n",
    "        print('Training with BN')\n",
    "        net = Net_BN().to(device)\n",
    "    elif net is None:\n",
    "        print('Training without BN')\n",
    "        net = Net_noBN().to(device)\n",
    "    else:\n",
    "        print('Fine-tuning pre-trained network')\n",
    "        net = net.to(device)\n",
    "\n",
    "    # Use SGD and decay the learning rate by a factor `gamma` every 25 epochs\n",
    "    optimizer = optim.SGD(net.parameters(), lr=params.lr)\n",
    "    scheduler = torch.optim.lr_scheduler.StepLR(optimizer, 25, gamma=params.gamma, last_epoch=-1)\n",
    "\n",
    "    # Utility to evaluate performance\n",
    "    def evaluate_net():\n",
    "        net.eval()\n",
    "        loss, correct, total = 0., 0., 0.\n",
    "        with torch.no_grad():\n",
    "            for images, labels in trainloader:\n",
    "                images, labels = images.to(device), labels.to(device)\n",
    "                outs = net(images)\n",
    "                loss += loss_fn(outs, labels).item() * labels.size(0)\n",
    "                _, pred = torch.max(outs.data, 1)\n",
    "                total += labels.size(0)\n",
    "                correct += (pred == labels).sum().item()\n",
    "        return loss/total, correct/total\n",
    "\n",
    "    # Logging\n",
    "    print('Epoch\\t\\tloss\\t\\taccuracy\\tTime\\t\\teval_time')\n",
    "    format_str = '{:d}\\t\\t{:.4f}\\t\\t{:.4f}\\t\\t{:.2f}\\t\\t{:.2f}'\n",
    "    logs = []\n",
    "    t2 = time.time()\n",
    "    l, a = evaluate_net()\n",
    "    out = [0, l, a, 0, time.time() - t2]\n",
    "    print(format_str.format(*out))\n",
    "    logs.append(out)\n",
    "    curvs = []\n",
    "    \n",
    "    # Now, we train\n",
    "    for epoch in range(params.num_epochs):\n",
    "        net.train()\n",
    "        scheduler.step()\n",
    "\n",
    "        t1 = time.time()\n",
    "\n",
    "        for i, (inputs, labels) in enumerate(trainloader):\n",
    "            inputs, labels = inputs.to(device), labels.to(device)\n",
    "\n",
    "             # zero the parameter gradients\n",
    "            optimizer.zero_grad()\n",
    "\n",
    "            # forward + backward + optimize\n",
    "            outputs = net(inputs)\n",
    "            loss = loss_fn(outputs, labels)\n",
    "            loss.backward()\n",
    "            optimizer.step()\n",
    "             \n",
    "            # log effective smoothness: \n",
    "            # This operation uses the function compute_curv in curv.py to estimate\n",
    "            # effective smoothness\n",
    "            if i % 33 == 0:\n",
    "                c = compute_curv(net, loss_fn, optimizer.param_groups[0]['lr'] / 2,\n",
    "                                 trainloader)\n",
    "                curvs.append([ epoch + i / len(trainloader), c[0], c[1]])\n",
    "           \n",
    "        # log at the end of epoch\n",
    "        t2 = time.time()\n",
    "        l, a = evaluate_net()\n",
    "        out = [epoch+1, l, a, t2-t1, time.time() - t2]\n",
    "        print(format_str.format(*out))\n",
    "        logs.append(out)\n",
    "\n",
    "    return net, logs, curvs"
   ]
  },
  {
   "cell_type": "markdown",
   "metadata": {},
   "source": [
    "### Running code\n",
    "Let us now run the experiments using models pre-trained for 50 epochs on the CIFAR-10 dataset. First, we shall use the network with batch norm and then use the network without batch norm. We shall visualize results based on 5 epochs.\n",
    "\n",
    "__NOTE__: the cell below should take ~5 min to run."
   ]
  },
  {
   "cell_type": "code",
   "execution_count": 11,
   "metadata": {},
   "outputs": [
    {
     "name": "stdout",
     "output_type": "stream",
     "text": [
      "Fine-tuning pre-trained network\n",
      "Epoch\t\tloss\t\taccuracy\tTime\t\teval_time\n",
      "0\t\t0.7717\t\t0.7331\t\t0.00\t\t3.18\n",
      "1\t\t0.7809\t\t0.7272\t\t38.10\t\t3.92\n",
      "2\t\t0.7453\t\t0.7407\t\t34.63\t\t2.96\n"
     ]
    },
    {
     "ename": "KeyboardInterrupt",
     "evalue": "",
     "traceback": [
      "\u001b[0;31m---------------------------------------------------------------------------\u001b[0m",
      "\u001b[0;31mKeyboardInterrupt\u001b[0m                         Traceback (most recent call last)",
      "\u001b[0;32m<ipython-input-11-c91b4b518cdb>\u001b[0m in \u001b[0;36m<module>\u001b[0;34m()\u001b[0m\n\u001b[1;32m     14\u001b[0m     \u001b[0mnet\u001b[0m \u001b[0;34m=\u001b[0m \u001b[0mpickle\u001b[0m\u001b[0;34m.\u001b[0m\u001b[0mload\u001b[0m\u001b[0;34m(\u001b[0m\u001b[0mfp\u001b[0m\u001b[0;34m)\u001b[0m\u001b[0;34m[\u001b[0m\u001b[0;36m0\u001b[0m\u001b[0;34m]\u001b[0m\u001b[0;34m\u001b[0m\u001b[0m\n\u001b[1;32m     15\u001b[0m \u001b[0;31m# Run with pre-trained network\u001b[0m\u001b[0;34m\u001b[0m\u001b[0;34m\u001b[0m\u001b[0m\n\u001b[0;32m---> 16\u001b[0;31m \u001b[0mw1\u001b[0m\u001b[0;34m,\u001b[0m \u001b[0mlogs1\u001b[0m\u001b[0;34m,\u001b[0m \u001b[0mcurvs1\u001b[0m \u001b[0;34m=\u001b[0m \u001b[0mtrain\u001b[0m\u001b[0;34m(\u001b[0m\u001b[0mparams\u001b[0m\u001b[0;34m,\u001b[0m \u001b[0mnet\u001b[0m\u001b[0;34m)\u001b[0m\u001b[0;34m\u001b[0m\u001b[0m\n\u001b[0m\u001b[1;32m     17\u001b[0m \u001b[0;34m\u001b[0m\u001b[0m\n\u001b[1;32m     18\u001b[0m \u001b[0;31m## Run without batch norm\u001b[0m\u001b[0;34m\u001b[0m\u001b[0;34m\u001b[0m\u001b[0m\n",
      "\u001b[0;32m<ipython-input-10-6f779b53222f>\u001b[0m in \u001b[0;36mtrain\u001b[0;34m(params, net)\u001b[0m\n\u001b[1;32m     62\u001b[0m             \u001b[0moutputs\u001b[0m \u001b[0;34m=\u001b[0m \u001b[0mnet\u001b[0m\u001b[0;34m(\u001b[0m\u001b[0minputs\u001b[0m\u001b[0;34m)\u001b[0m\u001b[0;34m\u001b[0m\u001b[0m\n\u001b[1;32m     63\u001b[0m             \u001b[0mloss\u001b[0m \u001b[0;34m=\u001b[0m \u001b[0mloss_fn\u001b[0m\u001b[0;34m(\u001b[0m\u001b[0moutputs\u001b[0m\u001b[0;34m,\u001b[0m \u001b[0mlabels\u001b[0m\u001b[0;34m)\u001b[0m\u001b[0;34m\u001b[0m\u001b[0m\n\u001b[0;32m---> 64\u001b[0;31m             \u001b[0mloss\u001b[0m\u001b[0;34m.\u001b[0m\u001b[0mbackward\u001b[0m\u001b[0;34m(\u001b[0m\u001b[0;34m)\u001b[0m\u001b[0;34m\u001b[0m\u001b[0m\n\u001b[0m\u001b[1;32m     65\u001b[0m             \u001b[0moptimizer\u001b[0m\u001b[0;34m.\u001b[0m\u001b[0mstep\u001b[0m\u001b[0;34m(\u001b[0m\u001b[0;34m)\u001b[0m\u001b[0;34m\u001b[0m\u001b[0m\n\u001b[1;32m     66\u001b[0m \u001b[0;34m\u001b[0m\u001b[0m\n",
      "\u001b[0;32m~/software/miniconda3/envs/adsi_fda_labs_2018/lib/python3.6/site-packages/torch/tensor.py\u001b[0m in \u001b[0;36mbackward\u001b[0;34m(self, gradient, retain_graph, create_graph)\u001b[0m\n\u001b[1;32m     91\u001b[0m                 \u001b[0mproducts\u001b[0m\u001b[0;34m.\u001b[0m \u001b[0mDefaults\u001b[0m \u001b[0mto\u001b[0m\u001b[0;31m \u001b[0m\u001b[0;31m`\u001b[0m\u001b[0;31m`\u001b[0m\u001b[0;32mFalse\u001b[0m\u001b[0;31m`\u001b[0m\u001b[0;31m`\u001b[0m\u001b[0;34m.\u001b[0m\u001b[0;34m\u001b[0m\u001b[0m\n\u001b[1;32m     92\u001b[0m         \"\"\"\n\u001b[0;32m---> 93\u001b[0;31m         \u001b[0mtorch\u001b[0m\u001b[0;34m.\u001b[0m\u001b[0mautograd\u001b[0m\u001b[0;34m.\u001b[0m\u001b[0mbackward\u001b[0m\u001b[0;34m(\u001b[0m\u001b[0mself\u001b[0m\u001b[0;34m,\u001b[0m \u001b[0mgradient\u001b[0m\u001b[0;34m,\u001b[0m \u001b[0mretain_graph\u001b[0m\u001b[0;34m,\u001b[0m \u001b[0mcreate_graph\u001b[0m\u001b[0;34m)\u001b[0m\u001b[0;34m\u001b[0m\u001b[0m\n\u001b[0m\u001b[1;32m     94\u001b[0m \u001b[0;34m\u001b[0m\u001b[0m\n\u001b[1;32m     95\u001b[0m     \u001b[0;32mdef\u001b[0m \u001b[0mregister_hook\u001b[0m\u001b[0;34m(\u001b[0m\u001b[0mself\u001b[0m\u001b[0;34m,\u001b[0m \u001b[0mhook\u001b[0m\u001b[0;34m)\u001b[0m\u001b[0;34m:\u001b[0m\u001b[0;34m\u001b[0m\u001b[0m\n",
      "\u001b[0;32m~/software/miniconda3/envs/adsi_fda_labs_2018/lib/python3.6/site-packages/torch/autograd/__init__.py\u001b[0m in \u001b[0;36mbackward\u001b[0;34m(tensors, grad_tensors, retain_graph, create_graph, grad_variables)\u001b[0m\n\u001b[1;32m     87\u001b[0m     Variable._execution_engine.run_backward(\n\u001b[1;32m     88\u001b[0m         \u001b[0mtensors\u001b[0m\u001b[0;34m,\u001b[0m \u001b[0mgrad_tensors\u001b[0m\u001b[0;34m,\u001b[0m \u001b[0mretain_graph\u001b[0m\u001b[0;34m,\u001b[0m \u001b[0mcreate_graph\u001b[0m\u001b[0;34m,\u001b[0m\u001b[0;34m\u001b[0m\u001b[0m\n\u001b[0;32m---> 89\u001b[0;31m         allow_unreachable=True)  # allow_unreachable flag\n\u001b[0m\u001b[1;32m     90\u001b[0m \u001b[0;34m\u001b[0m\u001b[0m\n\u001b[1;32m     91\u001b[0m \u001b[0;34m\u001b[0m\u001b[0m\n",
      "\u001b[0;31mKeyboardInterrupt\u001b[0m: "
     ],
     "output_type": "error"
    }
   ],
   "source": [
    "# set random seed for reproducibility\n",
    "torch.manual_seed(372018) \n",
    "params = Namespace()\n",
    "params.num_epochs = 5\n",
    "\n",
    "t1 = time.time()\n",
    "\n",
    "## Run with batch norm\n",
    "params.lr = 2e-2 # learning rate\n",
    "params.gamma = 0.2 # step-size decay parameter\n",
    "params.bn = 'bn'\n",
    "# Load pre-trained network\n",
    "with open('data/bn.p', 'rb') as fp:\n",
    "    net = pickle.load(fp)[0]\n",
    "# Run with pre-trained network\n",
    "w1, logs1, curvs1 = train(params, net)\n",
    "\n",
    "## Run without batch norm\n",
    "params.lr = 1e-2 # learning rate\n",
    "params.gamma = 0.2 # step-size decay parameter\n",
    "params.bn = 'no_bn'\n",
    "# Load pre-trained network\n",
    "with open('data/no_bn.p', 'rb') as fp:\n",
    "    net = pickle.load(fp)[0]\n",
    "# Run with pre-trained network\n",
    "w2, logs2, curvs2 = train(params, net)\n",
    "\n",
    "print('total time:', time.time() - t1)"
   ]
  },
  {
   "cell_type": "markdown",
   "metadata": {},
   "source": [
    "### Visualizing results\n",
    "Let us plot the effective local smoothness for both networks with and without batch norm.\n",
    "\n",
    "As we shall see, batch norm leads to smaller values of $\\widehat L$, i.e., more smoothness which means that potentially larger learning rates could be used. Moreover, $\\widehat L$ obtained is also more stable for batch norm as the optimization proceeds."
   ]
  },
  {
   "cell_type": "code",
   "execution_count": null,
   "metadata": {},
   "outputs": [],
   "source": [
    "plot_helper.plot_batch_norm(curvs1, curvs2)"
   ]
  },
  {
   "cell_type": "markdown",
   "metadata": {},
   "source": [
    "### Full Results\n",
    "Here are results from the same code run for 150 epochs, starting from a random intialization over 5 random runs. The shaded regions represent one standard deviation across the random runs."
   ]
  },
  {
   "cell_type": "code",
   "execution_count": null,
   "metadata": {},
   "outputs": [],
   "source": [
    "plot_helper.plot_batch_norm_all()"
   ]
  },
  {
   "cell_type": "code",
   "execution_count": 12,
   "metadata": {},
   "outputs": [
    {
     "data": {
      "text/plain": [
       "'0.4.0'"
      ]
     },
     "execution_count": 12,
     "metadata": {},
     "output_type": "execute_result"
    }
   ],
   "source": [
    "torch.__version__"
   ]
  },
  {
   "cell_type": "code",
   "execution_count": null,
   "metadata": {},
   "outputs": [],
   "source": []
  }
 ],
 "metadata": {
  "kernelspec": {
   "display_name": "Python 3",
   "language": "python",
   "name": "python3"
  },
  "language_info": {
   "codemirror_mode": {
    "name": "ipython",
    "version": 3
   },
   "file_extension": ".py",
   "mimetype": "text/x-python",
   "name": "python",
   "nbconvert_exporter": "python",
   "pygments_lexer": "ipython3",
   "version": "3.6.5"
  }
 },
 "nbformat": 4,
 "nbformat_minor": 2
}
